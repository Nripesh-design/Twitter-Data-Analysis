{
 "cells": [
  {
   "cell_type": "markdown",
   "metadata": {
    "id": "R1t3T9dLsJfU"
   },
   "source": [
    "# Question\n",
    "# 1. -> Gender Classification using the given dataset"
   ]
  },
  {
   "cell_type": "code",
   "execution_count": 1,
   "metadata": {},
   "outputs": [],
   "source": [
    "# Gender is my target variable in this dataset"
   ]
  },
  {
   "cell_type": "code",
   "execution_count": 33,
   "metadata": {
    "id": "VJtwwcIGTRPI"
   },
   "outputs": [],
   "source": [
    "import pandas as pd\n",
    "import numpy as np\n",
    "import seaborn as sns\n",
    "import matplotlib.pyplot as plt\n",
    "%matplotlib inline"
   ]
  },
  {
   "cell_type": "code",
   "execution_count": 52,
   "metadata": {
    "id": "6pzTH5aAtXgi"
   },
   "outputs": [],
   "source": [
    "# from google.colab import files\n",
    "# uploaded = files.upload()"
   ]
  },
  {
   "cell_type": "code",
   "execution_count": 35,
   "metadata": {
    "id": "V9hLotT2vQ1S"
   },
   "outputs": [],
   "source": [
    "data = pd.read_csv('/content/Information.csv', encoding='latin1')"
   ]
  },
  {
   "cell_type": "code",
   "execution_count": 36,
   "metadata": {
    "colab": {
     "base_uri": "https://localhost:8080/",
     "height": 467
    },
    "id": "LUkPBwFS1Mgc",
    "outputId": "28bd2486-a58c-42b3-c025-ec104fbf8640"
   },
   "outputs": [
    {
     "data": {
      "text/html": [
       "<div>\n",
       "<style scoped>\n",
       "    .dataframe tbody tr th:only-of-type {\n",
       "        vertical-align: middle;\n",
       "    }\n",
       "\n",
       "    .dataframe tbody tr th {\n",
       "        vertical-align: top;\n",
       "    }\n",
       "\n",
       "    .dataframe thead th {\n",
       "        text-align: right;\n",
       "    }\n",
       "</style>\n",
       "<table border=\"1\" class=\"dataframe\">\n",
       "  <thead>\n",
       "    <tr style=\"text-align: right;\">\n",
       "      <th></th>\n",
       "      <th>_unit_id</th>\n",
       "      <th>_golden</th>\n",
       "      <th>_unit_state</th>\n",
       "      <th>_trusted_judgments</th>\n",
       "      <th>_last_judgment_at</th>\n",
       "      <th>gender</th>\n",
       "      <th>gender:confidence</th>\n",
       "      <th>profile_yn</th>\n",
       "      <th>profile_yn:confidence</th>\n",
       "      <th>created</th>\n",
       "      <th>description</th>\n",
       "      <th>fav_number</th>\n",
       "      <th>gender_gold</th>\n",
       "      <th>link_color</th>\n",
       "      <th>name</th>\n",
       "      <th>profile_yn_gold</th>\n",
       "      <th>profileimage</th>\n",
       "      <th>retweet_count</th>\n",
       "      <th>sidebar_color</th>\n",
       "      <th>text</th>\n",
       "      <th>tweet_coord</th>\n",
       "      <th>tweet_count</th>\n",
       "      <th>tweet_created</th>\n",
       "      <th>tweet_id</th>\n",
       "      <th>tweet_location</th>\n",
       "      <th>user_timezone</th>\n",
       "    </tr>\n",
       "  </thead>\n",
       "  <tbody>\n",
       "    <tr>\n",
       "      <th>0</th>\n",
       "      <td>815719226</td>\n",
       "      <td>False</td>\n",
       "      <td>finalized</td>\n",
       "      <td>3</td>\n",
       "      <td>10/26/15 23:24</td>\n",
       "      <td>male</td>\n",
       "      <td>1.0000</td>\n",
       "      <td>yes</td>\n",
       "      <td>1.0</td>\n",
       "      <td>12/5/13 1:48</td>\n",
       "      <td>i sing my own rhythm.</td>\n",
       "      <td>0</td>\n",
       "      <td>NaN</td>\n",
       "      <td>08C2C2</td>\n",
       "      <td>sheezy0</td>\n",
       "      <td>NaN</td>\n",
       "      <td>https://pbs.twimg.com/profile_images/414342229...</td>\n",
       "      <td>0</td>\n",
       "      <td>FFFFFF</td>\n",
       "      <td>Robbie E Responds To Critics After Win Against...</td>\n",
       "      <td>NaN</td>\n",
       "      <td>110964</td>\n",
       "      <td>10/26/15 12:40</td>\n",
       "      <td>6.587300e+17</td>\n",
       "      <td>main; @Kan1shk3</td>\n",
       "      <td>Chennai</td>\n",
       "    </tr>\n",
       "    <tr>\n",
       "      <th>1</th>\n",
       "      <td>815719227</td>\n",
       "      <td>False</td>\n",
       "      <td>finalized</td>\n",
       "      <td>3</td>\n",
       "      <td>10/26/15 23:30</td>\n",
       "      <td>male</td>\n",
       "      <td>1.0000</td>\n",
       "      <td>yes</td>\n",
       "      <td>1.0</td>\n",
       "      <td>10/1/12 13:51</td>\n",
       "      <td>I'm the author of novels filled with family dr...</td>\n",
       "      <td>68</td>\n",
       "      <td>NaN</td>\n",
       "      <td>0084B4</td>\n",
       "      <td>DavdBurnett</td>\n",
       "      <td>NaN</td>\n",
       "      <td>https://pbs.twimg.com/profile_images/539604221...</td>\n",
       "      <td>0</td>\n",
       "      <td>C0DEED</td>\n",
       "      <td>ÛÏIt felt like they were my friends and I was...</td>\n",
       "      <td>NaN</td>\n",
       "      <td>7471</td>\n",
       "      <td>10/26/15 12:40</td>\n",
       "      <td>6.587300e+17</td>\n",
       "      <td>NaN</td>\n",
       "      <td>Eastern Time (US &amp; Canada)</td>\n",
       "    </tr>\n",
       "    <tr>\n",
       "      <th>2</th>\n",
       "      <td>815719228</td>\n",
       "      <td>False</td>\n",
       "      <td>finalized</td>\n",
       "      <td>3</td>\n",
       "      <td>10/26/15 23:33</td>\n",
       "      <td>male</td>\n",
       "      <td>0.6625</td>\n",
       "      <td>yes</td>\n",
       "      <td>1.0</td>\n",
       "      <td>11/28/14 11:30</td>\n",
       "      <td>louis whining and squealing and all</td>\n",
       "      <td>7696</td>\n",
       "      <td>NaN</td>\n",
       "      <td>ABB8C2</td>\n",
       "      <td>lwtprettylaugh</td>\n",
       "      <td>NaN</td>\n",
       "      <td>https://pbs.twimg.com/profile_images/657330418...</td>\n",
       "      <td>1</td>\n",
       "      <td>C0DEED</td>\n",
       "      <td>i absolutely adore when louis starts the songs...</td>\n",
       "      <td>NaN</td>\n",
       "      <td>5617</td>\n",
       "      <td>10/26/15 12:40</td>\n",
       "      <td>6.587300e+17</td>\n",
       "      <td>clcncl</td>\n",
       "      <td>Belgrade</td>\n",
       "    </tr>\n",
       "    <tr>\n",
       "      <th>3</th>\n",
       "      <td>815719229</td>\n",
       "      <td>False</td>\n",
       "      <td>finalized</td>\n",
       "      <td>3</td>\n",
       "      <td>10/26/15 23:10</td>\n",
       "      <td>male</td>\n",
       "      <td>1.0000</td>\n",
       "      <td>yes</td>\n",
       "      <td>1.0</td>\n",
       "      <td>6/11/09 22:39</td>\n",
       "      <td>Mobile guy.  49ers, Shazam, Google, Kleiner Pe...</td>\n",
       "      <td>202</td>\n",
       "      <td>NaN</td>\n",
       "      <td>0084B4</td>\n",
       "      <td>douggarland</td>\n",
       "      <td>NaN</td>\n",
       "      <td>https://pbs.twimg.com/profile_images/259703936...</td>\n",
       "      <td>0</td>\n",
       "      <td>C0DEED</td>\n",
       "      <td>Hi @JordanSpieth - Looking at the url - do you...</td>\n",
       "      <td>NaN</td>\n",
       "      <td>1693</td>\n",
       "      <td>10/26/15 12:40</td>\n",
       "      <td>6.587300e+17</td>\n",
       "      <td>Palo Alto, CA</td>\n",
       "      <td>Pacific Time (US &amp; Canada)</td>\n",
       "    </tr>\n",
       "    <tr>\n",
       "      <th>4</th>\n",
       "      <td>815719230</td>\n",
       "      <td>False</td>\n",
       "      <td>finalized</td>\n",
       "      <td>3</td>\n",
       "      <td>10/27/15 1:15</td>\n",
       "      <td>female</td>\n",
       "      <td>1.0000</td>\n",
       "      <td>yes</td>\n",
       "      <td>1.0</td>\n",
       "      <td>4/16/14 13:23</td>\n",
       "      <td>Ricky Wilson The Best FRONTMAN/Kaiser Chiefs T...</td>\n",
       "      <td>37318</td>\n",
       "      <td>NaN</td>\n",
       "      <td>3B94D9</td>\n",
       "      <td>WilfordGemma</td>\n",
       "      <td>NaN</td>\n",
       "      <td>https://pbs.twimg.com/profile_images/564094871...</td>\n",
       "      <td>0</td>\n",
       "      <td>0</td>\n",
       "      <td>Watching Neighbours on Sky+ catching up with t...</td>\n",
       "      <td>NaN</td>\n",
       "      <td>31462</td>\n",
       "      <td>10/26/15 12:40</td>\n",
       "      <td>6.587300e+17</td>\n",
       "      <td>NaN</td>\n",
       "      <td>NaN</td>\n",
       "    </tr>\n",
       "  </tbody>\n",
       "</table>\n",
       "</div>"
      ],
      "text/plain": [
       "    _unit_id  _golden  ...   tweet_location               user_timezone\n",
       "0  815719226    False  ...  main; @Kan1shk3                     Chennai\n",
       "1  815719227    False  ...              NaN  Eastern Time (US & Canada)\n",
       "2  815719228    False  ...           clcncl                    Belgrade\n",
       "3  815719229    False  ...    Palo Alto, CA  Pacific Time (US & Canada)\n",
       "4  815719230    False  ...              NaN                         NaN\n",
       "\n",
       "[5 rows x 26 columns]"
      ]
     },
     "execution_count": 36,
     "metadata": {
      "tags": []
     },
     "output_type": "execute_result"
    }
   ],
   "source": [
    "data.head()"
   ]
  },
  {
   "cell_type": "code",
   "execution_count": 37,
   "metadata": {
    "id": "wOYKf7wj1Pf5"
   },
   "outputs": [],
   "source": [
    "import numpy as np \n",
    "from sklearn.naive_bayes import MultinomialNB\n",
    "\n",
    "import nltk \n",
    "import re"
   ]
  },
  {
   "cell_type": "code",
   "execution_count": 38,
   "metadata": {
    "id": "e8gK_S3J1b2v"
   },
   "outputs": [],
   "source": [
    "data = pd.concat([data.gender, data.description], axis=1)\n",
    "data.dropna(axis = 0, inplace = True)"
   ]
  },
  {
   "cell_type": "code",
   "execution_count": 39,
   "metadata": {
    "colab": {
     "base_uri": "https://localhost:8080/"
    },
    "id": "4YBnb9rk1smA",
    "outputId": "263229d7-0572-4c6c-c074-169efff65700"
   },
   "outputs": [
    {
     "name": "stdout",
     "output_type": "stream",
     "text": [
      "<class 'pandas.core.frame.DataFrame'>\n",
      "Int64Index: 16224 entries, 0 to 20049\n",
      "Data columns (total 2 columns):\n",
      " #   Column       Non-Null Count  Dtype \n",
      "---  ------       --------------  ----- \n",
      " 0   gender       16224 non-null  object\n",
      " 1   description  16224 non-null  object\n",
      "dtypes: object(2)\n",
      "memory usage: 380.2+ KB\n"
     ]
    }
   ],
   "source": [
    "data.info()"
   ]
  },
  {
   "cell_type": "code",
   "execution_count": 40,
   "metadata": {
    "colab": {
     "base_uri": "https://localhost:8080/"
    },
    "id": "1ECmxtxk1zxz",
    "outputId": "15753d09-b7fd-4365-88ce-5b314cf17a9e"
   },
   "outputs": [
    {
     "name": "stdout",
     "output_type": "stream",
     "text": [
      "[nltk_data] Downloading package stopwords to /root/nltk_data...\n",
      "[nltk_data]   Package stopwords is already up-to-date!\n",
      "[nltk_data] Downloading package punkt to /root/nltk_data...\n",
      "[nltk_data]   Package punkt is already up-to-date!\n",
      "[nltk_data] Downloading package wordnet to /root/nltk_data...\n",
      "[nltk_data]   Package wordnet is already up-to-date!\n"
     ]
    },
    {
     "data": {
      "text/plain": [
       "True"
      ]
     },
     "execution_count": 40,
     "metadata": {
      "tags": []
     },
     "output_type": "execute_result"
    }
   ],
   "source": [
    "import nltk # natural language took kit\n",
    "nltk.download(\"stopwords\")\n",
    "nltk.download('punkt')\n",
    "nltk.download('wordnet')"
   ]
  },
  {
   "cell_type": "code",
   "execution_count": 41,
   "metadata": {
    "id": "7ZJrT7Ua2Ejx"
   },
   "outputs": [],
   "source": [
    "import nltk\n",
    "description_list = [] # we created a list so we after these steps, we will append into this list\n",
    "for description in data.description:\n",
    "    description = re.sub(\"[^a-zA-Z]\", \" \", description)\n",
    "    # sub method finds the given pattern ([^a-zA-Z] means, NOT letter like \":\") and changes them with \" \" (space)\n",
    "    description = description.lower()\n",
    "    # we need to have all letters lowercase (because A is not equall to a)\n",
    "    description = nltk.word_tokenize(description)\n",
    "    # we make a word list from our text\n",
    "    lemma = nltk.WordNetLemmatizer()\n",
    "    description = [lemma.lemmatize(word) for word in description]\n",
    "    # we found the roots of each words with lemma\n",
    "    description = \" \".join(description)\n",
    "    # after all these steps,we joined the words together and remake our text.\n",
    "    description_list.append(description)\n",
    "    # and append these texts into the list we created."
   ]
  },
  {
   "cell_type": "code",
   "execution_count": 42,
   "metadata": {
    "colab": {
     "base_uri": "https://localhost:8080/"
    },
    "id": "XcZxwzS02NnA",
    "outputId": "f08963ab-8314-4732-cd16-886ee0f3b1f7"
   },
   "outputs": [
    {
     "name": "stdout",
     "output_type": "stream",
     "text": [
      "top used 5000 words: ['aa', 'aaron', 'abc', 'aberdeen', 'ability', 'able', 'absolute', 'absolutely', 'absurdity', 'abuse', 'ac', 'academia', 'academic', 'academy', 'acc', 'accept', 'accepted', 'accepting', 'access', 'accessible', 'accessory', 'accident', 'accommodation', 'accomplish', 'account', 'accountant', 'accounting', 'ace', 'achieve', 'act', 'acting', 'action', 'active', 'activist', 'activity', 'actor', 'actress', 'actual', 'actually', 'ad', 'adalah', 'adam', 'add', 'added', 'addict', 'addicted', 'addiction', 'addition', 'address', 'admin', 'administrator', 'admirer', 'adopted', 'adoption', 'adorable', 'adore', 'adult', 'advance', 'advanced', 'adventure', 'adventurer', 'advertising', 'advice', 'advise', 'adviser', 'advisor', 'advocacy', 'advocate', 'advocating', 'aerial', 'aerospace', 'aesthetic', 'af', 'afc', 'affair', 'affiliate', 'affiliated', 'affiliation', 'affordable', 'aficionado', 'afraid', 'africa', 'african', 'afrikaner', 'afro', 'afternoon', 'ag', 'age', 'agency', 'agender', 'agent', 'agile', 'ago', 'agree', 'agreement', 'agriculture', 'ah', 'ahead', 'ahs', 'ai', 'aim', 'aime', 'aiming', 'ain', 'aint', 'air', 'airplane', 'aj', 'aka', 'akps', 'akun', 'al', 'alabama', 'alberta', 'album', 'alcohol', 'ale', 'alert', 'alex', 'alexis', 'alfie', 'algorithm', 'ali', 'alice', 'alien', 'alive', 'allah', 'allergic', 'alliance', 'ally', 'alot', 'alpha', 'alright', 'alt', 'alternatefinance', 'alternative', 'alum', 'alumna', 'alumnus', 'amateur', 'amazing', 'amazon', 'ambassador', 'ambition', 'ambitious', 'amendment', 'america', 'american', 'amex', 'amo', 'amor', 'amy', 'ana', 'analysis', 'analyst', 'analytics', 'anarchy', 'anchor', 'ander', 'anderson', 'andrew', 'android', 'andy', 'ang', 'angel', 'angeles', 'anger', 'angle', 'angry', 'animal', 'animation', 'animator', 'anime', 'ann', 'anna', 'anne', 'annoying', 'annual', 'anonymous', 'anoudablogger', 'answer', 'anthology', 'anthony', 'anti', 'anxiety', 'anybody', 'anymore', 'anyship', 'anytime', 'anyways', 'ap', 'apart', 'apologist', 'apologize', 'app', 'apparel', 'apparently', 'appearing', 'apple', 'application', 'appreciate', 'appreciator', 'approach', 'approved', 'apps', 'aquarius', 'arab', 'archer', 'architect', 'architecture', 'area', 'aren', 'arent', 'ariana', 'aries', 'arizona', 'arkansas', 'arm', 'army', 'arrow', 'arsenal', 'art', 'article', 'artisan', 'artist', 'artiste', 'artistic', 'artwork', 'asexual', 'ash', 'ashley', 'ashton', 'asia', 'asian', 'ask', 'asked', 'asos', 'aspire', 'aspired', 'aspiring', 'assassin', 'asset', 'asshole', 'assist', 'assistance', 'assistant', 'associate', 'associated', 'association', 'asst', 'astrology', 'astronomer', 'astronomy', 'asu', 'asylum', 'ate', 'atheism', 'atheist', 'athlete', 'athletic', 'athletics', 'atl', 'atlanta', 'attempt', 'attention', 'attitude', 'attorney', 'attraction', 'au', 'auction', 'audience', 'audio', 'audit', 'august', 'austin', 'australia', 'australian', 'author', 'authority', 'autism', 'autistic', 'auto', 'automated', 'automatically', 'automotive', 'autotweet', 'av', 'ava', 'available', 'avatar', 'ave', 'avec', 'avenger', 'avenue', 'average', 'avi', 'aviation', 'avid', 'aw', 'awake', 'award', 'aware', 'awareness', 'away', 'awesome', 'awful', 'awkward', 'ax', 'ay', 'aye', 'ayer', 'az', 'ba', 'babe', 'baby', 'babygirl', 'background', 'bacon', 'bad', 'badass', 'badly', 'bae', 'bag', 'bake', 'baker', 'baking', 'balance', 'balanced', 'ball', 'ballabgarh', 'baltimore', 'bama', 'banana', 'bancorp', 'band', 'bang', 'bank', 'banker', 'banner', 'banter', 'baptist', 'bar', 'barack', 'barca', 'barcelona', 'bargain', 'barista', 'barry', 'barton', 'base', 'baseball', 'based', 'basic', 'basically', 'basis', 'basket', 'basketball', 'bass', 'bastard', 'bat', 'bath', 'batman', 'battle', 'battling', 'bay', 'bazooka', 'bb', 'bbc', 'bbm', 'bc', 'bd', 'bdsm', 'beach', 'bean', 'bear', 'beard', 'bearded', 'beast', 'beat', 'beating', 'beautiful', 'beauty', 'beck', 'bed', 'bee', 'beep', 'beer', 'begin', 'beginner', 'beginning', 'belfast', 'belieber', 'belief', 'believe', 'believer', 'believing', 'belle', 'belly', 'belong', 'belongs', 'belt', 'ben', 'benjamin', 'berita', 'berkshire', 'berlin', 'bernie', 'bespoke', 'best', 'bestseller', 'bestselling', 'bet', 'beta', 'better', 'betting', 'beware', 'beyonce', 'bf', 'bff', 'bh', 'bi', 'bible', 'bicycle', 'bieber', 'bien', 'big', 'bigdata', 'bigger', 'biggest', 'bike', 'bikini', 'binge', 'bio', 'biology', 'bios', 'bipolar', 'bird', 'birmingham', 'birth', 'birthday', 'bisexual', 'bit', 'bitch', 'bitcoin', 'bite', 'bitter', 'biz', 'black', 'blackberry', 'blackhawks', 'blacklivesmatter', 'blade', 'blah', 'blame', 'bleed', 'blend', 'bless', 'blessed', 'blessing', 'blind', 'block', 'blocked', 'blog', 'blogger', 'blogging', 'blonde', 'blood', 'blow', 'blue', 'bluelivesmatter', 'blunt', 'bo', 'board', 'boarding', 'boat', 'boca', 'body', 'bodybuilding', 'boise', 'bold', 'bond', 'bone', 'book', 'booking', 'bookworm', 'boop', 'boot', 'booty', 'border', 'bored', 'boricua', 'boring', 'born', 'bos', 'boston', 'bot', 'bother', 'bound', 'bout', 'boutique', 'bow', 'bowl', 'box', 'boxer', 'boxing', 'boy', 'boyfriend', 'br', 'bra', 'brain', 'brand', 'branded', 'branding', 'brandon', 'brat', 'brave', 'brazil', 'bread', 'break', 'breakfast', 'breaking', 'breast', 'breath', 'breathe', 'breathing', 'bred', 'breed', 'brewer', 'brewing', 'brick', 'bridge', 'brien', 'bright', 'brighter', 'brilliant', 'bring', 'bringing', 'brings', 'bristol', 'brit', 'britain', 'british', 'bro', 'broadcast', 'broadcaster', 'broadcasting', 'broken', 'broker', 'bronco', 'brook', 'bros', 'brother', 'brought', 'brown', 'brownie', 'bruce', 'bruh', 'bruin', 'bsc', 'bsu', 'bts', 'buckeye', 'budget', 'buff', 'buffalo', 'bug', 'build', 'builder', 'building', 'built', 'bull', 'bullshit', 'bum', 'bunch', 'bunny', 'burger', 'burn', 'bus', 'business', 'businessman', 'busy', 'butt', 'butter', 'butterfly', 'button', 'buy', 'buyer', 'buying', 'buzz', 'bye', 'ca', 'cab', 'cafe', 'caffeine', 'cairo', 'caitlin', 'cake', 'cal', 'caleb', 'calendar', 'calgary', 'cali', 'california', 'called', 'calling', 'calm', 'calum', 'cam', 'cambridge', 'camden', 'came', 'camera', 'camgirl', 'camp', 'campaign', 'camping', 'campus', 'canada', 'canadian', 'cancer', 'candidate', 'candle', 'candy', 'cane', 'cannabis', 'canuck', 'cap', 'cape', 'capital', 'capitalism', 'capone', 'capricorn', 'captain', 'caption', 'capture', 'car', 'caramel', 'card', 'cardiff', 'cardinal', 'care', 'career', 'careful', 'caregiver', 'caribbean', 'caring', 'carolina', 'caroline', 'carpet', 'carry', 'carrying', 'carter', 'cartoon', 'case', 'cash', 'cashflow', 'casino', 'cast', 'castle', 'casual', 'cat', 'catalyst', 'catch', 'catering', 'catholic', 'cause', 'cavs', 'cbc', 'cbs', 'cc', 'ccc', 'cd', 'ce', 'celebrating', 'celebrity', 'celtic', 'center', 'central', 'centre', 'century', 'ceo', 'certified', 'cfc', 'ch', 'chain', 'chair', 'challenge', 'champ', 'champagne', 'champion', 'championship', 'chan', 'chance', 'chanel', 'change', 'changed', 'changer', 'changing', 'channel', 'chaos', 'chapter', 'character', 'charge', 'charity', 'charlie', 'charming', 'chart', 'charter', 'chase', 'chasing', 'chat', 'chatting', 'cheap', 'check', 'checkout', 'cheeky', 'cheer', 'cheerleader', 'cheese', 'chef', 'chelsea', 'cheshire', 'chi', 'chic', 'chicago', 'chick', 'chicken', 'chief', 'child', 'childhood', 'chill', 'chillin', 'chilling', 'china', 'chinese', 'chip', 'chocolate', 'choice', 'choir', 'choose', 'choreographer', 'chris', 'christ', 'christian', 'christmas', 'christopher', 'chronic', 'chronicle', 'chs', 'church', 'ci', 'cia', 'cider', 'cigar', 'cil', 'cinema', 'circle', 'cisco', 'citizen', 'citizenship', 'citta', 'city', 'civic', 'civil', 'ck', 'cl', 'claim', 'clan', 'class', 'classic', 'classical', 'classified', 'classy', 'clean', 'cleaning', 'clear', 'cleveland', 'click', 'client', 'clifford', 'climate', 'clinic', 'clinical', 'clip', 'clock', 'close', 'closed', 'closer', 'closet', 'clothed', 'clothes', 'clothing', 'cloud', 'club', 'clubned', 'clubnedcafe', 'cm', 'cnn', 'coach', 'coaching', 'coast', 'cod', 'code', 'coder', 'coffee', 'cogniteev', 'coin', 'coke', 'cold', 'cole', 'collaboration', 'collect', 'collectible', 'collecting', 'collection', 'collective', 'collector', 'college', 'colony', 'color', 'colorado', 'colour', 'colt', 'columnist', 'com', 'combat', 'combined', 'come', 'comedian', 'comedy', 'comfort', 'comic', 'comicbook', 'coming', 'comma', 'command', 'comment', 'commentary', 'commentator', 'commerce', 'commercial', 'commission', 'commitment', 'committed', 'committee', 'commodity', 'common', 'comms', 'communication', 'communicator', 'community', 'como', 'comp', 'company', 'compassion', 'competition', 'competitive', 'competitor', 'complain', 'complete', 'completely', 'complex', 'compliance', 'complicated', 'compliment', 'composer', 'comprehensive', 'computer', 'computing', 'concept', 'concern', 'concert', 'concierge', 'condition', 'conference', 'confessed', 'confident', 'confirmed', 'conflict', 'confused', 'connect', 'connected', 'connecting', 'connection', 'connector', 'connects', 'connoisseur', 'connor', 'conor', 'conscience', 'conscious', 'consciousness', 'conservation', 'conservative', 'consider', 'constant', 'constantly', 'constitution', 'constitutional', 'constitutionalist', 'construction', 'consultant', 'consulting', 'consumer', 'contact', 'contain', 'contemporary', 'content', 'contest', 'continue', 'continuous', 'contract', 'contracting', 'contributing', 'contribution', 'contributor', 'control', 'convention', 'conversation', 'cook', 'cookie', 'cooking', 'cooky', 'cool', 'coolest', 'cooperative', 'coordinator', 'cop', 'copy', 'copyright', 'copywriter', 'cor', 'coraz', 'corbyn', 'core', 'corgi', 'corinthian', 'corn', 'corner', 'cornwall', 'corp', 'corporate', 'corporation', 'correct', 'correspondent', 'corruption', 'cosmetic', 'cosplay', 'cosplayer', 'cost', 'costanza', 'costume', 'couch', 'couldn', 'council', 'councillor', 'count', 'counting', 'country', 'countryside', 'county', 'couple', 'coupon', 'courage', 'course', 'court', 'courtesy', 'cousin', 'coventry', 'cover', 'coverage', 'covered', 'covering', 'cowboy', 'cowboysnation', 'coz', 'cp', 'cpa', 'cr', 'crack', 'craft', 'crafter', 'crap', 'crash', 'crazy', 'cream', 'create', 'created', 'creates', 'creating', 'creation', 'creative', 'creativity', 'creator', 'creature', 'credit', 'creek', 'crew', 'cricket', 'crime', 'criminal', 'criminology', 'crimson', 'crisis', 'crisp', 'critic', 'critical', 'criticism', 'crm', 'crochet', 'cross', 'crossfit', 'crowd', 'crowdfunding', 'crowdsourcing', 'crown', 'cruel', 'cruelty', 'cruise', 'crush', 'crushing', 'crutch', 'cruz', 'crystal', 'crystalleddream', 'cs', 'csgo', 'csu', 'csulb', 'ct', 'cu', 'cub', 'cuban', 'cuenta', 'cuisine', 'culinary', 'cultural', 'culture', 'cum', 'cunt', 'cup', 'cupcake', 'curated', 'curating', 'curator', 'curious', 'curly', 'curmudgeon', 'currency', 'current', 'currently', 'curry', 'curse', 'cursed', 'custom', 'customer', 'cut', 'cute', 'cutest', 'cutie', 'cuz', 'cxkuo', 'cyber', 'cybersecurity', 'cycle', 'cycling', 'cyclist', 'cynical', 'czech', 'da', 'dad', 'daddy', 'dai', 'daily', 'dairy', 'daisy', 'dakota', 'dale', 'dallas', 'damn', 'dan', 'dana', 'dance', 'dancehall', 'dancer', 'dancing', 'danger', 'dangerous', 'daniel', 'danish', 'danny', 'dare', 'dark', 'darkest', 'darkness', 'darling', 'dart', 'dash', 'dat', 'data', 'date', 'dating', 'datpiff', 'daughter', 'davenport', 'david', 'dawg', 'day', 'daycare', 'db', 'dc', 'dd', 'dead', 'deal', 'dealer', 'dean', 'dear', 'death', 'debate', 'debt', 'debut', 'dec', 'december', 'decide', 'decir', 'decision', 'decor', 'decorating', 'dedicated', 'deep', 'deeply', 'defend', 'defender', 'defense', 'define', 'definitely', 'definition', 'degree', 'del', 'delicious', 'delight', 'delightful', 'deliver', 'delivered', 'delivering', 'delivers', 'delivery', 'della', 'deloitte', 'delta', 'demand', 'dementia', 'demi', 'demo', 'democracy', 'democrat', 'democratic', 'demon', 'dennis', 'dental', 'denver', 'department', 'depression', 'dept', 'depth', 'deputy', 'der', 'derby', 'derp', 'description', 'descriptive', 'desde', 'desert', 'deserve', 'design', 'designed', 'designer', 'designing', 'desire', 'despair', 'desperate', 'despite', 'destination', 'destined', 'destiny', 'destroy', 'destroyed', 'destroying', 'destruction', 'detailed', 'detective', 'determined', 'detroit', 'dev', 'develop', 'developer', 'developing', 'development', 'device', 'devil', 'devon', 'devops', 'devoted', 'devotee', 'di', 'diabetes', 'diamond', 'diary', 'dice', 'dick', 'did', 'didn', 'didnt', 'die', 'died', 'diego', 'diehard', 'diet', 'dieting', 'difference', 'different', 'dig', 'digital', 'dignity', 'dimension', 'dining', 'dinner', 'dinosaur', 'dios', 'direct', 'direction', 'directioner', 'directly', 'director', 'dirt', 'dirty', 'dis', 'disability', 'disabled', 'disappoint', 'disaster', 'disciple', 'disclaimer', 'discount', 'discover', 'discovery', 'discus', 'discussion', 'disease', 'disgusting', 'dislike', 'disney', 'disorder', 'distance', 'distributor', 'district', 'diva', 'diversity', 'dividend', 'division', 'divorce', 'diy', 'dj', 'dk', 'dl', 'dm', 'dnt', 'docidohq', 'doctor', 'documentary', 'dodger', 'doe', 'doer', 'doesn', 'doesnt', 'dog', 'dogging', 'doing', 'doixkn', 'doll', 'dollar', 'dolphin', 'dom', 'domain', 'domestic', 'dominican', 'domino', 'don', 'donald', 'dont', 'donut', 'doodle', 'doodler', 'door', 'dope', 'dork', 'dornan', 'dorset', 'dose', 'dot', 'double', 'doubt', 'download', 'downloads', 'downtown', 'dp', 'dr', 'draft', 'drag', 'dragon', 'drake', 'drama', 'draw', 'drawing', 'dream', 'dreamer', 'dreaming', 'dress', 'dressed', 'drew', 'drink', 'drinker', 'drinking', 'drive', 'driven', 'driver', 'driving', 'drop', 'drug', 'drum', 'drummer', 'drunk', 'du', 'dub', 'dublin', 'duck', 'dude', 'duh', 'duke', 'dumb', 'dummy', 'duo', 'dust', 'dutch', 'duty', 'dwarf', 'dweller', 'dy', 'dying', 'dylan', 'dynamic', 'ea', 'eagle', 'ear', 'early', 'earn', 'earth', 'easier', 'easily', 'east', 'eastern', 'easy', 'eat', 'eater', 'eatin', 'eating', 'eatingndastreets', 'ebay', 'ebooks', 'ec', 'eccentric', 'eclectic', 'ecn', 'eco', 'ecologist', 'ecology', 'ecommerce', 'economic', 'economics', 'economist', 'economy', 'ecu', 'ed', 'edge', 'edinburgh', 'edited', 'editing', 'edition', 'editor', 'editorial', 'edm', 'educated', 'educating', 'education', 'educational', 'educator', 'edward', 'een', 'ef', 'effect', 'effective', 'effort', 'egg', 'ego', 'egypt', 'eh', 'ein', 'el', 'ela', 'election', 'electric', 'electronic', 'electronics', 'elf', 'elite', 'elle', 'elvis', 'em', 'email', 'emergency', 'emerging', 'emily', 'eminem', 'emma', 'emmerdale', 'emmy', 'emo', 'emoji', 'emotion', 'emotional', 'emperor', 'empire', 'employed', 'employee', 'employer', 'employment', 'empower', 'empowered', 'empowering', 'en', 'encourage', 'end', 'ender', 'ending', 'endless', 'endorse', 'endorsement', 'enemy', 'energy', 'eng', 'engage', 'engaged', 'engagement', 'engaging', 'engineer', 'engineering', 'england', 'english', 'enhance', 'enjoy', 'enjoying', 'enjoys', 'enlightenment', 'enquiry', 'enrich', 'enrique', 'ent', 'enter', 'enterprise', 'entertain', 'entertainer', 'entertaining', 'entertainment', 'enthusiast', 'enthusiastic', 'entire', 'entirely', 'entrepreneur', 'entrepreneurship', 'environment', 'environmental', 'ep', 'epic', 'episode', 'epitome', 'equal', 'equality', 'equipment', 'equity', 'er', 'era', 'eres', 'eric', 'erin', 'erotic', 'escape', 'escort', 'esp', 'espa', 'especially', 'espn', 'esports', 'esquimau', 'essence', 'essential', 'est', 'established', 'estate', 'esteem', 'estoy', 'et', 'eternal', 'eternally', 'eternity', 'eterno', 'etf', 'etsy', 'eu', 'euro', 'europe', 'european', 'evangelist', 'eve', 'event', 'eventually', 'everton', 'everybody', 'everyday', 'evil', 'evolution', 'ex', 'example', 'excellence', 'excellent', 'excited', 'exciting', 'exclusive', 'excuse', 'exec', 'executive', 'exercise', 'exile', 'exist', 'existence', 'existing', 'exo', 'expanded', 'expat', 'expect', 'expectation', 'expensive', 'experience', 'experienced', 'experiment', 'experimental', 'expert', 'expertise', 'explain', 'explore', 'explorer', 'exploring', 'exposure', 'express', 'expressed', 'expression', 'expy', 'extension', 'extra', 'extraordinaire', 'extraordinary', 'extreme', 'extremely', 'extrovert', 'ey', 'eye', 'eyp', 'ez', 'fa', 'fab', 'fabric', 'fabulous', 'face', 'facebook', 'facial', 'facilitator', 'facility', 'fact', 'factor', 'faculty', 'fail', 'failed', 'failure', 'fair', 'fairness', 'fairy', 'faith', 'faithful', 'fake', 'falcon', 'fall', 'fam', 'fame', 'familia', 'family', 'famous', 'fan', 'fanatic', 'fanboy', 'fancy', 'fandom', 'fanfic', 'fangirl', 'fangirling', 'fantastic', 'fantasy', 'far', 'faridabad', 'farm', 'farmer', 'farming', 'farted', 'fashion', 'fast', 'faster', 'fastest', 'fat', 'fate', 'father', 'fav', 'fave', 'faved', 'faves', 'favor', 'favorite', 'favorited', 'favourite', 'favs', 'fb', 'fc', 'fear', 'fearing', 'fearless', 'feature', 'featured', 'featuring', 'fed', 'federal', 'feed', 'feel', 'feeling', 'feelthebern', 'fell', 'fellow', 'fellowship', 'felt', 'female', 'feminism', 'feminist', 'festival', 'fetish', 'ff', 'fg', 'fgc', 'fi', 'fianc', 'fiance', 'fiat', 'fiction', 'fictional', 'field', 'fierce', 'fifa', 'fifth', 'fight', 'fighter', 'fighting', 'figure', 'filled', 'film', 'filming', 'filmmaker', 'filter', 'final', 'finalist', 'finance', 'financial', 'financially', 'finanz', 'finding', 'fine', 'finger', 'finish', 'firm', 'fish', 'fishing', 'fit', 'fitness', 'fix', 'fl', 'flame', 'flash', 'flesh', 'flexibility', 'flickr', 'flight', 'flip', 'flirt', 'floor', 'florida', 'flow', 'flower', 'fly', 'flyer', 'flying', 'fm', 'fn', 'focus', 'focused', 'focusing', 'folk', 'follow', 'followback', 'followed', 'follower', 'following', 'follows', 'fond', 'food', 'foodie', 'fool', 'foolish', 'foot', 'football', 'footballer', 'forbes', 'force', 'ford', 'forecast', 'foreign', 'forest', 'forever', 'forex', 'forget', 'forgive', 'forgot', 'form', 'fort', 'forum', 'forward', 'foster', 'foundation', 'founded', 'founder', 'founding', 'fox', 'foxy', 'fr', 'frame', 'france', 'francisco', 'francoisgoube', 'frank', 'franklin', 'freak', 'free', 'freebie', 'freedom', 'freelance', 'freelancer', 'freepalestine', 'french', 'frequent', 'fresh', 'freshman', 'fri', 'friday', 'friend', 'friendly', 'friendship', 'fsu', 'ft', 'ftw', 'fuck', 'fucked', 'fucking', 'fuel', 'fulfill', 'fullest', 'fully', 'fun', 'function', 'functional', 'fund', 'funding', 'funk', 'funnier', 'funny', 'fur', 'furry', 'future', 'fuzzy', 'ga', 'gabriel', 'gadget', 'gaga', 'gain', 'gal', 'galaxy', 'gallery', 'gambling', 'game', 'gamedev', 'gameofthrones', 'gamer', 'gamergate', 'gamers', 'gamertag', 'gaming', 'gang', 'gangsta', 'gangster', 'garbage', 'garden', 'gardener', 'gardening', 'gary', 'gate', 'gator', 'gave', 'gay', 'gaza', 'ge', 'gear', 'gee', 'geek', 'geekery', 'geeklegacy', 'geeky', 'gemini', 'gen', 'gender', 'general', 'generally', 'generated', 'generation', 'genius', 'genre', 'gente', 'gentleman', 'geo', 'geography', 'geordie', 'george', 'georgia', 'ger', 'german', 'germany', 'getting', 'gf', 'ghost', 'giant', 'gift', 'gifted', 'gig', 'gigicaponepr', 'gil', 'ginger', 'girl', 'girlfriend', 'gist', 'giveaway', 'given', 'giving', 'glad', 'glam', 'glasgow', 'glass', 'glee', 'glitter', 'global', 'globally', 'globe', 'glorious', 'glory', 'gmail', 'goal', 'goat', 'god', 'goddess', 'godhelpamerica', 'going', 'gold', 'golden', 'golf', 'golfer', 'gomez', 'gon', 'gone', 'good', 'goodness', 'goofy', 'google', 'gooner', 'gorgeous', 'gospel', 'gossip', 'got', 'gotham', 'goto', 'gourmet', 'government', 'govt', 'gp', 'gr', 'grab', 'grace', 'grad', 'grade', 'graduate', 'gran', 'grand', 'grande', 'grandfather', 'grandma', 'grandmother', 'grandpa', 'granny', 'grant', 'graphic', 'grateful', 'gratis', 'grave', 'gravity', 'gray', 'great', 'greater', 'greatest', 'greatness', 'greek', 'green', 'grew', 'grey', 'grfoxfjwpv', 'grind', 'grizzly', 'ground', 'group', 'grow', 'growing', 'grown', 'growth', 'grumpy', 'gsu', 'gt', 'gta', 'guaranteed', 'guard', 'guardian', 'gucci', 'guess', 'guest', 'guide', 'guitar', 'guitarist', 'gulf', 'gun', 'guru', 'guy', 'gym', 'ha', 'habit', 'hack', 'hacker', 'hai', 'hail', 'hair', 'haired', 'half', 'hall', 'halloween', 'halo', 'halsey', 'ham', 'han', 'hand', 'handle', 'handmade', 'handsome', 'hang', 'hanging', 'happen', 'happening', 'happens', 'happier', 'happiest', 'happily', 'happiness', 'happy', 'har', 'hard', 'hardcore', 'harder', 'hardware', 'harm', 'harmless', 'harmony', 'harry', 'harvard', 'harvest', 'haryana', 'hashtag', 'hasta', 'hat', 'hate', 'hated', 'hater', 'hathaway', 'hating', 'haven', 'havin', 'having', 'hawaii', 'hay', 'hd', 'head', 'header', 'headline', 'heal', 'healer', 'healing', 'health', 'healthcare', 'healthcoach', 'healthier', 'healthy', 'hear', 'heard', 'heart', 'hearted', 'heat', 'heather', 'heatnation', 'heaven', 'heavy', 'heel', 'height', 'held', 'helen', 'hell', 'hello', 'help', 'helped', 'helping', 'henry', 'herald', 'herb', 'heritage', 'hero', 'hey', 'hi', 'hiatus', 'high', 'higher', 'highly', 'hiker', 'hiking', 'hilarious', 'hill', 'hint', 'hip', 'hiphop', 'hippie', 'hipster', 'hire', 'historian', 'historic', 'historical', 'history', 'hit', 'hj', 'hoarder', 'hobby', 'hockey', 'hoe', 'hold', 'holder', 'holding', 'hole', 'holiday', 'holistic', 'holland', 'hollyoaks', 'hollywood', 'holocaust', 'holy', 'home', 'homeschool', 'hometown', 'homie', 'honest', 'honey', 'honor', 'honorary', 'honour', 'hood', 'hoop', 'hoosier', 'hop', 'hope', 'hopeful', 'hopefully', 'hopeless', 'hoping', 'hopkins', 'horan', 'horizon', 'horny', 'horror', 'horse', 'hospital', 'hospitality', 'host', 'hosted', 'hosting', 'hot', 'hotel', 'hotmail', 'hotnewhiphop', 'hotspur', 'hottest', 'hour', 'house', 'housewife', 'housing', 'houston', 'howard', 'hq', 'hr', 'htgawm', 'html', 'http', 'htx', 'hub', 'hufflepuff', 'hug', 'huge', 'hugger', 'human', 'humanist', 'humanitarian', 'humanity', 'humanrights', 'humble', 'humor', 'humour', 'hunger', 'hungry', 'hunt', 'hunter', 'hunting', 'hurricane', 'hurt', 'husband', 'hustle', 'hustler', 'hv', 'hw', 'hybrid', 'hypocrite', 'ia', 'iam', 'ibm', 'ic', 'ice', 'iced', 'icon', 'id', 'idea', 'ideal', 'idealist', 'identity', 'idiot', 'idol', 'ig', 'ignorance', 'ihq', 'ii', 'iii', 'ik', 'il', 'ill', 'illegal', 'illinois', 'illness', 'illustration', 'illustrator', 'ily', 'im', 'image', 'imaginable', 'imagination', 'imagine', 'imma', 'immigrant', 'impact', 'imperfection', 'important', 'importantly', 'impossible', 'impractical', 'impress', 'impression', 'improve', 'improvement', 'improving', 'inappropriate', 'inch', 'include', 'includes', 'including', 'income', 'increase', 'incredible', 'incurable', 'independent', 'index', 'india', 'indian', 'indiana', 'indianapolis', 'indie', 'individual', 'indonesia', 'indoor', 'industrial', 'industry', 'inequality', 'infinite', 'infinity', 'infj', 'influence', 'influencer', 'influential', 'info', 'inform', 'information', 'informative', 'informed', 'infosec', 'infp', 'infrastructure', 'ing', 'initiative', 'injustice', 'inner', 'innovation', 'innovative', 'innovator', 'inquires', 'inquiry', 'insane', 'insanity', 'insert', 'inside', 'insider', 'insight', 'insightful', 'insomniac', 'inspiration', 'inspirational', 'inspire', 'inspired', 'inspiring', 'insta', 'instagram', 'instant', 'instead', 'institute', 'institution', 'instructor', 'insurance', 'int', 'integrity', 'intel', 'intellectual', 'intelligence', 'intelligent', 'intention', 'interact', 'interactive', 'interested', 'interesting', 'interior', 'intern', 'international', 'internet', 'intersectional', 'interview', 'interviewer', 'intimate', 'intj', 'intl', 'intp', 'introvert', 'intuitive', 'invention', 'inventor', 'invest', 'investigation', 'investigator', 'investing', 'investment', 'investor', 'invisible', 'invite', 'involved', 'io', 'iot', 'iowa', 'ip', 'iphone', 'iran', 'iraqi', 'ireland', 'iris', 'irish', 'irl', 'isaac', 'isaiah', 'isfp', 'ish', 'islam', 'island', 'isle', 'isn', 'isnt', 'israel', 'issue', 'isu', 'isupk', 'italian', 'italy', 'item', 'itunes', 'iv', 'ive', 'ix', 'ja', 'jack', 'jackson', 'jacob', 'jadine', 'jai', 'jake', 'jamaican', 'james', 'jamie', 'jan', 'jane', 'janoskians', 'japan', 'japanese', 'jay', 'jaz', 'jazz', 'jb', 'jd', 'jdsupra', 'je', 'jean', 'jedi', 'jeff', 'jeremiah', 'jersey', 'jessica', 'jesus', 'jet', 'jetlife', 'jew', 'jewellery', 'jewelry', 'jewish', 'jim', 'jj', 'jm', 'jo', 'job', 'joe', 'joey', 'john', 'johnny', 'johnson', 'join', 'joined', 'jojo', 'joke', 'joker', 'jon', 'jones', 'jongdae', 'jordan', 'joseph', 'josh', 'joshua', 'journal', 'journalism', 'journalist', 'journey', 'journo', 'joy', 'joyful', 'jr', 'ju', 'judge', 'juice', 'july', 'jumpman', 'june', 'jungle', 'junior', 'junk', 'junkie', 'just', 'justice', 'justin', 'justinbieber', 'kamu', 'kansa', 'kanye', 'kath', 'kathniel', 'katy', 'kay', 'kayla', 'kc', 'kcco', 'ke', 'keen', 'keeper', 'keeping', 'kelly', 'ken', 'kent', 'kentucky', 'kenya', 'kenyan', 'kevin', 'key', 'khalifa', 'ki', 'kick', 'kid', 'kik', 'kill', 'killer', 'killjoy', 'kim', 'kind', 'kinda', 'kindle', 'kindness', 'king', 'kingdom', 'kink', 'kiss', 'kit', 'kitchen', 'kitten', 'kitty', 'knee', 'knew', 'knicks', 'knife', 'knight', 'knitter', 'knitting', 'knock', 'know', 'knowing', 'knowledge', 'known', 'ko', 'kool', 'korea', 'kpmg', 'kpop', 'kr', 'krsk', 'ksigbvg', 'ksu', 'ku', 'ky', 'la', 'lab', 'label', 'labor', 'laboratory', 'labour', 'lace', 'lack', 'lacrosse', 'lad', 'lady', 'lake', 'lakers', 'lamb', 'lame', 'lan', 'lana', 'land', 'lane', 'lang', 'language', 'large', 'largest', 'larry', 'laser', 'lass', 'late', 'later', 'latest', 'latin', 'latina', 'latino', 'latte', 'laugh', 'laughing', 'laughter', 'launched', 'laura', 'lauren', 'law', 'lawyer', 'lay', 'layout', 'lazy', 'lb', 'le', 'lead', 'leader', 'leadership', 'leading', 'leaf', 'league', 'lean', 'leaning', 'learn', 'learned', 'learner', 'learning', 'leave', 'lebanese', 'lecturer', 'lee', 'leeds', 'left', 'lefty', 'leg', 'legacy', 'legal', 'legend', 'legendary', 'legit', 'leisure', 'lemon', 'lemonade', 'lens', 'leo', 'lesbian', 'lesson', 'let', 'letter', 'letting', 'level', 'lewd', 'lfc', 'lgbt', 'lgbtq', 'li', 'liam', 'liberal', 'libertarian', 'liberty', 'libra', 'librarian', 'library', 'licensed', 'lie', 'life', 'lifecoach', 'lifelong', 'lifestyle', 'lifetime', 'lift', 'light', 'lighting', 'like', 'likely', 'lil', 'limit', 'limited', 'limitless', 'lincoln', 'linda', 'line', 'lingerie', 'link', 'linked', 'linkedin', 'linux', 'lion', 'lionsheadsocial', 'lip', 'lipstick', 'liquor', 'lisa', 'list', 'listed', 'listen', 'listener', 'listening', 'listing', 'lit', 'literally', 'literary', 'literature', 'little', 'littlenialler', 'live', 'lived', 'liver', 'liverpool', 'livin', 'living', 'liza', 'lizard', 'lizquen', 'll', 'llb', 'llc', 'llp', 'lm', 'lmao', 'lo', 'load', 'loading', 'loan', 'local', 'locally', 'located', 'location', 'locked', 'logic', 'logo', 'lol', 'loml', 'london', 'lone', 'lonely', 'long', 'longer', 'longest', 'look', 'lookin', 'looking', 'loop', 'loose', 'lord', 'los', 'lose', 'loser', 'losing', 'loss', 'lost', 'lot', 'lotr', 'lou', 'loud', 'louis', 'louisandharry', 'louisiana', 'louisville', 'lounge', 'lovato', 'love', 'loved', 'lovely', 'lover', 'lovin', 'loving', 'low', 'lower', 'loyal', 'loyalty', 'lp', 'lsu', 'lu', 'luck', 'lucky', 'lufc', 'luke', 'lunch', 'luv', 'luxury', 'lv', 'lynn', 'lynx', 'lyric', 'lyrical', 'lyricist', 'ma', 'mac', 'machine', 'mad', 'madison', 'madness', 'madrid', 'mae', 'mafia', 'mag', 'magazine', 'magic', 'magical', 'mai', 'mail', 'main', 'maine', 'mainly', 'maintenance', 'major', 'make', 'makeamericagreatagain', 'maker', 'makeup', 'making', 'malaysia', 'male', 'malik', 'mall', 'mama', 'man', 'manage', 'managed', 'management', 'manager', 'managing', 'manchester', 'manga', 'maniac', 'mantra', 'manufacturer', 'manufacturing', 'manutd', 'map', 'mapping', 'mar', 'marathon', 'marie', 'marijuana', 'marine', 'mark', 'market', 'marketer', 'marketing', 'marketplace', 'marriage', 'married', 'martial', 'martin', 'marvel', 'marvelous', 'mary', 'maryland', 'mason', 'mass', 'massage', 'massive', 'massroots', 'master', 'mastering', 'match', 'matching', 'mate', 'maternity', 'math', 'mathematics', 'matt', 'matter', 'matthew', 'mature', 'mau', 'maven', 'max', 'maybe', 'mayor', 'mba', 'mc', 'mcdonald', 'mcfc', 'md', 'meal', 'mean', 'meaning', 'meant', 'meat', 'med', 'medical', 'medicine', 'meditation', 'medium', 'meet', 'meeting', 'megan', 'meghan', 'meh', 'mel', 'melt', 'member', 'membership', 'meme', 'memory', 'memphis', 'men', 'mendes', 'mental', 'mentally', 'mention', 'mentioned', 'mentor', 'merchant', 'mermaid', 'merseyside', 'mess', 'message', 'mesztesn', 'met', 'metal', 'metalhead', 'meteorologist', 'method', 'metro', 'mets', 'mexican', 'mexico', 'mfc', 'mg', 'mgc', 'mgmt', 'mi', 'mia', 'miami', 'mic', 'michael', 'michelle', 'michigan', 'microsoft', 'mid', 'middle', 'midland', 'midnight', 'midwest', 'midwife', 'miei', 'mighty', 'mii', 'mijn', 'mike', 'mile', 'miley', 'militant', 'military', 'milk', 'miller', 'million', 'millionaire', 'milwaukee', 'mimi', 'min', 'minaj', 'mind', 'minded', 'mindset', 'minecraft', 'mini', 'mining', 'minister', 'ministry', 'minnesota', 'minor', 'minute', 'miracle', 'mirror', 'miss', 'missed', 'missing', 'mission', 'missionary', 'mississippi', 'missouri', 'mistake', 'mit', 'mitch', 'mix', 'mixed', 'mixer', 'mixtape', 'mixtapes', 'mizzou', 'mk', 'mktg', 'ml', 'mlb', 'mlp', 'mma', 'mmxv', 'mn', 'moan', 'mobile', 'mod', 'mode', 'model', 'moderator', 'modern', 'molly', 'mom', 'moment', 'momma', 'mommy', 'mon', 'monday', 'money', 'monitor', 'monitored', 'monitoring', 'monkey', 'monroe', 'monster', 'month', 'monthly', 'montreal', 'mood', 'moon', 'morgan', 'mormon', 'morning', 'mortgage', 'mother', 'motherhood', 'motion', 'motivated', 'motivation', 'motivational', 'motivator', 'moto', 'motor', 'motorbike', 'motorcycle', 'motto', 'mountain', 'mouse', 'mouth', 'moved', 'movement', 'movie', 'moving', 'mp', 'mq', 'mr', 'msg', 'msu', 'mt', 'mtv', 'mu', 'mua', 'mufc', 'mufcu', 'multi', 'multicultural', 'multilingual', 'multimedia', 'multiple', 'multiplication', 'multiverse', 'mum', 'mummy', 'munchkin', 'mundo', 'murder', 'murray', 'muscle', 'muse', 'museum', 'mushroom', 'music', 'musical', 'musician', 'musik', 'musing', 'muslim', 'mut', 'mutant', 'mv', 'mvp', 'mx', 'myallies', 'mysterious', 'mystery', 'na', 'nada', 'nadal', 'nah', 'nail', 'naked', 'named', 'nana', 'nap', 'nascar', 'nashville', 'nat', 'nathan', 'nation', 'national', 'nationwide', 'native', 'natural', 'naturally', 'nature', 'naughty', 'navy', 'nb', 'nba', 'nbc', 'nbk', 'nbsp', 'nc', 'ncaa', 'ncat', 'nd', 'ne', 'near', 'nebraska', 'necessarily', 'necessary', 'neck', 'need', 'needed', 'negative', 'neighborhood', 'neon', 'nerd', 'nerdy', 'net', 'netflix', 'netherlands', 'network', 'networker', 'networking', 'neutral', 'new', 'newborn', 'newcastle', 'newest', 'newly', 'news', 'newsdesk', 'newsletter', 'newspaper', 'nfl', 'nh', 'nhl', 'nhra', 'ni', 'niall', 'nialler', 'niallofficial', 'nice', 'niche', 'nicholas', 'nicki', 'nickname', 'nico', 'nicolamarketing', 'nie', 'nigeria', 'nigerian', 'nigga', 'night', 'nightclub', 'nightmare', 'nikki', 'nikon', 'nineteen', 'ninja', 'nintendo', 'nj', 'nl', 'nm', 'noah', 'noble', 'noh', 'noir', 'noise', 'nola', 'nominated', 'nominee', 'non', 'nonprofit', 'nonsense', 'normal', 'north', 'northern', 'northwest', 'norwich', 'nose', 'note', 'nothin', 'notice', 'noticed', 'notorious', 'nottingham', 'nov', 'novel', 'novelist', 'november', 'novice', 'nq', 'nra', 'nsfw', 'nt', 'nuclear', 'nude', 'number', 'nurse', 'nursing', 'nut', 'nutrition', 'nutritionist', 'nw', 'ny', 'nyc', 'nyg', 'nyse', 'nyu', 'nz', 'oak', 'oakland', 'obama', 'obamasucks', 'object', 'obsessed', 'obsession', 'obsessive', 'obsessor', 'obviously', 'oc', 'occasion', 'occasional', 'occasionally', 'ocean', 'oct', 'october', 'od', 'odd', 'offended', 'offer', 'offering', 'office', 'officer', 'official', 'officially', 'oficial', 'og', 'oh', 'ohio', 'oil', 'oj', 'ok', 'okay', 'oklahoma', 'ol', 'old', 'older', 'ole', 'olive', 'oliver', 'olivia', 'olympic', 'om', 'oncrawl', 'onedirection', 'online', 'ontario', 'oo', 'op', 'open', 'opening', 'openrp', 'opera', 'operate', 'operated', 'operation', 'operator', 'opinion', 'opinionated', 'opm', 'opportunity', 'oprah', 'ops', 'optimist', 'optimistic', 'optimize', 'option', 'oracle', 'orange', 'order', 'ordinary', 'oregon', 'org', 'organ', 'organic', 'organisation', 'organization', 'organizer', 'original', 'originally', 'orlando', 'orleans', 'osu', 'ot', 'otaku', 'otc', 'otp', 'otra', 'ottawa', 'ou', 'ouat', 'outcome', 'outdoor', 'outdoors', 'outlet', 'outlook', 'outside', 'outta', 'ov', 'overall', 'overcome', 'owe', 'owen', 'owl', 'owned', 'owner', 'owns', 'oxford', 'oximity', 'pa', 'pacer', 'pacific', 'pack', 'package', 'packaging', 'packer', 'page', 'paid', 'pain', 'paine', 'paint', 'painter', 'painting', 'pair', 'pakistan', 'pakistani', 'pal', 'pale', 'paleo', 'palestine', 'palestinian', 'palm', 'pan', 'panda', 'pansexual', 'pant', 'panther', 'papa', 'paper', 'para', 'paradise', 'paranormal', 'parent', 'parenting', 'paris', 'park', 'parody', 'participant', 'partner', 'partnered', 'partnership', 'party', 'pas', 'passion', 'passionate', 'past', 'pasta', 'pastor', 'pat', 'path', 'patience', 'patient', 'patrick', 'patriot', 'patriotic', 'patron', 'paul', 'pay', 'payne', 'pc', 'pdt', 'peace', 'peach', 'peer', 'pen', 'penchant', 'penguin', 'penn', 'pennsylvania', 'penny', 'people', 'perfect', 'perfection', 'performance', 'performer', 'performing', 'periscope', 'permanent', 'pero', 'perry', 'person', 'persona', 'personal', 'personality', 'personally', 'perspective', 'pet', 'peter', 'petition', 'petty', 'pewdiepie', 'peyton', 'pf', 'pgp', 'ph', 'phan', 'pharmaceutical', 'phd', 'phil', 'philadelphia', 'philanthropist', 'philippian', 'philippine', 'phillies', 'philly', 'philosopher', 'philosophy', 'phoenix', 'phone', 'photo', 'photografy', 'photograph', 'photographer', 'photography', 'php', 'phrase', 'physic', 'physical', 'physician', 'physicist', 'physio', 'pianist', 'piano', 'pic', 'pick', 'picture', 'piece', 'pilate', 'pilot', 'pin', 'pink', 'pint', 'pioneer', 'pirate', 'pisces', 'piss', 'pittsburgh', 'pix', 'pixel', 'piza', 'pizza', 'pjnet', 'place', 'plan', 'plane', 'planet', 'planner', 'planning', 'plant', 'platform', 'play', 'playboy', 'played', 'player', 'playful', 'playing', 'playlist', 'playstation', 'pleasure', 'pll', 'pls', 'plus', 'plz', 'pm', 'pnw', 'po', 'pocket', 'podcast', 'podcaster', 'podcasting', 'podcasts', 'poem', 'poet', 'poetry', 'point', 'pointless', 'pok', 'pokemon', 'poker', 'pole', 'police', 'policy', 'polish', 'polite', 'political', 'politically', 'politician', 'politics', 'polo', 'poly', 'pony', 'pool', 'poor', 'pop', 'popculture', 'popping', 'popular', 'por', 'porn', 'porno', 'pornographic', 'pornstar', 'portal', 'portfolio', 'portland', 'portrait', 'portugal', 'positive', 'possibility', 'possible', 'post', 'postcard', 'posted', 'poster', 'posting', 'potato', 'potential', 'potter', 'potterhead', 'poverty', 'power', 'powered', 'powerful', 'ppl', 'pr', 'pra', 'practice', 'practitioner', 'praise', 'pray', 'pre', 'prefer', 'premier', 'premiere', 'premium', 'prep', 'prepare', 'pres', 'presence', 'present', 'presenter', 'preserve', 'president', 'press', 'pretend', 'pretty', 'previously', 'price', 'pride', 'prince', 'princess', 'principal', 'print', 'printing', 'priority', 'privacy', 'private', 'pro', 'probably', 'problem', 'process', 'proclaimed', 'procrastinator', 'produce', 'produced', 'producer', 'product', 'production', 'prof', 'profession', 'professional', 'professionally', 'professor', 'profile', 'profit', 'program', 'programme', 'programmer', 'programming', 'progress', 'progressive', 'project', 'prolife', 'promise', 'promo', 'promote', 'promoter', 'promoting', 'promotion', 'pronoun', 'pronounced', 'prop', 'propaganda', 'property', 'prophet', 'protect', 'protection', 'protector', 'proud', 'proudly', 'proven', 'proverb', 'provide', 'provided', 'provider', 'provides', 'providing', 'psalm', 'psn', 'psych', 'psychic', 'psychology', 'pt', 'ptsd', 'pub', 'public', 'publication', 'publicist', 'published', 'publisher', 'publishing', 'puerto', 'pug', 'pumpkin', 'pun', 'punctuation', 'pundit', 'punk', 'pup', 'puppy', 'purchase', 'pure', 'purple', 'purpose', 'pursue', 'pursuit', 'purveyor', 'pussy', 'putting', 'quad', 'quality', 'quarter', 'que', 'queen', 'queer', 'quest', 'question', 'quiero', 'quiet', 'quit', 'quite', 'quiz', 'quote', 'rabbit', 'race', 'racing', 'racist', 'rad', 'radio', 'rafa', 'raider', 'rail', 'rain', 'raise', 'raised', 'raising', 'raleigh', 'ram', 'ramblings', 'ran', 'random', 'range', 'ranger', 'ranked', 'rant', 'rap', 'rapper', 'rare', 'rarely', 'rat', 'ratchet', 'rate', 'raven', 'ravenclaw', 'raw', 'ray', 'rc', 'rd', 'reach', 'reaching', 'read', 'reader', 'reading', 'ready', 'real', 'realestate', 'realist', 'reality', 'realize', 'realized', 'really', 'realtor', 'rear', 'reason', 'rebecca', 'rebel', 'recap', 'receive', 'recently', 'recipe', 'recognized', 'recommend', 'recommendation', 'record', 'recording', 'recovering', 'recovery', 'recreation', 'recruiter', 'recruiting', 'recycle', 'red', 'reddit', 'redneck', 'redskin', 'redsox', 'reference', 'reflect', 'reflective', 'reform', 'reformed', 'refugee', 'refuse', 'regarding', 'reggae', 'region', 'regional', 'register', 'regret', 'regular', 'reiki', 'related', 'relating', 'relation', 'relationship', 'relax', 'release', 'relentless', 'relevant', 'reliable', 'religion', 'religious', 'remain', 'remarkable', 'remember', 'reminder', 'remix', 'renaissance', 'rendez', 'rendezvous', 'rental', 'rep', 'repair', 'repeat', 'reply', 'replyed', 'report', 'reporter', 'reporting', 'represent', 'representing', 'republic', 'republican', 'request', 'rescue', 'research', 'researcher', 'resident', 'residential', 'resort', 'resource', 'respect', 'response', 'responsible', 'rest', 'restaurant', 'result', 'retail', 'retailer', 'retired', 'retirement', 'retro', 'return', 'retweet', 'retweeted', 'retweeting', 'retweets', 'revenue', 'reverbnation', 'review', 'reviewer', 'revolution', 'revolutionary', 'rhino', 'rhyme', 'ri', 'rican', 'rich', 'richard', 'ricky', 'ride', 'rider', 'ridge', 'ridiculous', 'riding', 'right', 'ring', 'rio', 'riot', 'rip', 'rise', 'risk', 'rita', 'rite', 'river', 'rl', 'rn', 'road', 'rob', 'robbiewilliams', 'robert', 'robot', 'robotics', 'rochester', 'rock', 'rocket', 'rockstar', 'rogers', 'role', 'roleplay', 'roll', 'rolling', 'roman', 'romance', 'romantic', 'rome', 'room', 'root', 'rose', 'ross', 'rough', 'round', 'rover', 'row', 'rowyso', 'royal', 'royalty', 'rp', 'rsn', 'rt', 'rts', 'ru', 'rubbish', 'ruby', 'rugby', 'ruin', 'ruined', 'rule', 'ruler', 'run', 'runner', 'runnin', 'running', 'rural', 'rush', 'russell', 'ryan', 'rzoj', 'sa', 'sacrifice', 'sad', 'safe', 'safety', 'sage', 'sagittarius', 'said', 'sailor', 'saint', 'sale', 'salt', 'sam', 'san', 'sandra', 'sane', 'santa', 'sarah', 'sarcasm', 'sarcastic', 'sas', 'sassy', 'sat', 'satan', 'satire', 'satisfaction', 'saturday', 'sauce', 'savage', 'savannah', 'save', 'saved', 'saving', 'savior', 'saviour', 'saw', 'say', 'saya', 'sayin', 'saying', 'sb', 'sc', 'scar', 'scared', 'scary', 'scene', 'scholar', 'school', 'sci', 'science', 'scientific', 'scientist', 'scifi', 'scorpio', 'scotch', 'scotland', 'scott', 'scottish', 'scout', 'scouting', 'scream', 'screen', 'screenwriter', 'script', 'scum', 'se', 'sea', 'seafood', 'search', 'searching', 'season', 'seattle', 'sec', 'second', 'secret', 'secretary', 'sector', 'secure', 'security', 'seek', 'seeker', 'seeking', 'seen', 'select', 'selection', 'selena', 'selenator', 'self', 'selfies', 'sell', 'seller', 'selling', 'sem', 'semi', 'sen', 'send', 'senior', 'senpai', 'sense', 'sentence', 'seo', 'separation', 'september', 'ser', 'serial', 'series', 'seriously', 'servant', 'serve', 'served', 'server', 'service', 'serving', 'session', 'set', 'setting', 'seventeen', 'sex', 'sexy', 'sf', 'sg', 'shade', 'shall', 'shape', 'share', 'shared', 'sharing', 'shark', 'sharp', 'shawn', 'sheep', 'shelter', 'sherlock', 'shield', 'shine', 'ship', 'shipper', 'shipping', 'shirt', 'shit', 'shitposting', 'shoe', 'shoot', 'shooter', 'shop', 'shopping', 'shore', 'short', 'shot', 'shoulder', 'shouldn', 'shout', 'showing', 'shut', 'shy', 'si', 'sica', 'sick', 'sierra', 'sigh', 'sight', 'sign', 'signed', 'silence', 'silent', 'silly', 'silver', 'simple', 'simplicity', 'simply', 'simpson', 'sin', 'sing', 'singer', 'singing', 'single', 'sinner', 'sir', 'siren', 'sister', 'sit', 'site', 'sitting', 'situation', 'size', 'sketch', 'ski', 'skier', 'skiing', 'skill', 'skin', 'skincare', 'skinny', 'sky', 'skype', 'sl', 'slacker', 'slay', 'slayer', 'sleep', 'sleeper', 'sleeping', 'slight', 'slightly', 'sloth', 'slow', 'slut', 'slytherin', 'sm', 'small', 'smart', 'smarter', 'smash', 'smell', 'smile', 'smiling', 'smith', 'smm', 'smoke', 'sn', 'snack', 'snake', 'snap', 'snapchat', 'snark', 'snarky', 'snob', 'snow', 'snowboard', 'snp', 'snsanalytics', 'soap', 'sobre', 'soccer', 'social', 'socialism', 'socialist', 'socially', 'socialmedia', 'society', 'sock', 'soft', 'softball', 'software', 'solar', 'sold', 'soldier', 'solemnly', 'solid', 'solo', 'solution', 'solve', 'somebody', 'someday', 'somerset', 'son', 'song', 'songwriter', 'sono', 'sony', 'soon', 'sophisticated', 'sophomore', 'sorry', 'sort', 'sosfam', 'soul', 'sound', 'soundcloud', 'source', 'south', 'southampton', 'southern', 'sox', 'soy', 'spa', 'space', 'spaghetti', 'spain', 'spam', 'spaniel', 'spanish', 'spare', 'spark', 'sparkly', 'speak', 'speaker', 'speaking', 'speaks', 'spear', 'special', 'specialise', 'specialising', 'specialist', 'specialize', 'specializing', 'specialty', 'specific', 'speech', 'speed', 'spelling', 'spend', 'spending', 'spent', 'spicy', 'spider', 'spirit', 'spiritual', 'spiritualist', 'spiritually', 'spit', 'splatoon', 'spoiler', 'sponsor', 'sponsored', 'spooky', 'sport', 'sporting', 'sportswriter', 'spot', 'spouse', 'spread', 'spreading', 'spring', 'spur', 'squad', 'square', 'squat', 'squirrel', 'sr', 'st', 'staff', 'staffing', 'stage', 'stan', 'stand', 'standard', 'standing', 'stanford', 'star', 'starbucks', 'start', 'started', 'starting', 'startup', 'starwars', 'state', 'statement', 'station', 'statistic', 'stats', 'status', 'stay', 'staying', 'steal', 'steam', 'steelers', 'stem', 'step', 'steve', 'steven', 'stick', 'stl', 'stock', 'stocking', 'stockmarket', 'stole', 'stolen', 'stone', 'stoner', 'stood', 'stop', 'stopped', 'storage', 'store', 'storm', 'story', 'storyteller', 'straight', 'strange', 'stranger', 'strategic', 'strategist', 'strategy', 'strawberry', 'stream', 'streamer', 'streaming', 'street', 'strength', 'stress', 'stressed', 'stretching', 'stripper', 'strive', 'strong', 'struggle', 'struggling', 'stuck', 'student', 'studio', 'study', 'studying', 'stuff', 'stunning', 'stunt', 'stupid', 'style', 'stylish', 'stylist', 'su', 'sub', 'subject', 'submission', 'submissive', 'submit', 'submitted', 'subscribe', 'subscriber', 'subscription', 'substantive', 'subtly', 'subtraction', 'succeed', 'success', 'successful', 'suck', 'sue', 'suffer', 'sufferer', 'suffering', 'sugar', 'suggestion', 'suicide', 'suit', 'sum', 'summer', 'sun', 'sunday', 'sunny', 'sunset', 'sunshine', 'sup', 'super', 'superb', 'superhero', 'superheroes', 'superintendent', 'superior', 'supernatural', 'superstar', 'supplier', 'supply', 'support', 'supported', 'supporter', 'supporting', 'supposed', 'supreme', 'sure', 'surf', 'surface', 'surfer', 'surfing', 'surgeon', 'surgery', 'surplus', 'surprised', 'surrounding', 'survival', 'survive', 'survivor', 'sushi', 'sussex', 'sustainability', 'sustainable', 'sv', 'sw', 'swear', 'swears', 'sweat', 'swedish', 'sweet', 'sweetest', 'sweetheart', 'swift', 'swim', 'swimmer', 'swimming', 'swing', 'swiss', 'switch', 'sword', 'syd', 'sydney', 'sykes', 'syracuse', 'ta', 'table', 'taco', 'taehyung', 'tag', 'taiji', 'taken', 'taker', 'takethat', 'taking', 'tale', 'talent', 'talented', 'talk', 'talker', 'talkin', 'talking', 'talkradio', 'tall', 'tampa', 'tamu', 'tank', 'tar', 'targeted', 'taste', 'tasting', 'tasty', 'tattoo', 'tattooed', 'taught', 'tax', 'taxplanning', 'taylor', 'tbh', 'tbol', 'tcot', 'te', 'tea', 'teach', 'teacher', 'teaching', 'team', 'teamfollowback', 'teamindy', 'teamwork', 'teaparty', 'tear', 'tech', 'techgeek', 'techie', 'technical', 'technician', 'technique', 'technology', 'ted', 'teen', 'teenage', 'teenager', 'teenwolf', 'teeth', 'tel', 'telegram', 'telegraph', 'television', 'tell', 'telling', 'telly', 'temperature', 'temple', 'tend', 'tengo', 'tennessee', 'tennis', 'term', 'terrible', 'terrier', 'terror', 'terrorist', 'terry', 'test', 'testing', 'texan', 'texas', 'text', 'textbook', 'tf', 'tg', 'tgod', 'th', 'thai', 'thank', 'thankful', 'thanks', 'thats', 'theater', 'theatre', 'thefullbleed', 'theirs', 'theo', 'theory', 'therapist', 'therapy', 'thfc', 'thigh', 'thing', 'think', 'thinker', 'thinking', 'thmatrix', 'tho', 'thoctober', 'thomas', 'thought', 'thousand', 'threat', 'thriller', 'thrive', 'thriving', 'throne', 'throw', 'thrown', 'thug', 'thunder', 'thursday', 'thy', 'ti', 'ticket', 'tide', 'tie', 'tiger', 'til', 'till', 'tim', 'time', 'timeless', 'timeline', 'tiny', 'tip', 'tired', 'tit', 'titan', 'title', 'tj', 'tl', 'tm', 'tn', 'tna', 'toda', 'today', 'toddler', 'todo', 'toe', 'told', 'tom', 'tomboy', 'tomlinson', 'tomorrow', 'tone', 'tongue', 'tonight', 'tony', 'took', 'tool', 'topic', 'tormented', 'toronto', 'torus', 'tory', 'total', 'totally', 'tottenham', 'touch', 'touched', 'tough', 'tour', 'tourism', 'tournament', 'town', 'toxic', 'toy', 'track', 'tracking', 'tracy', 'trade', 'trader', 'trading', 'tradition', 'traditional', 'traffic', 'trail', 'trailblazer', 'trailer', 'train', 'trained', 'trainee', 'trainer', 'training', 'trance', 'trans', 'transfer', 'transit', 'translation', 'translator', 'transplant', 'transplanted', 'transport', 'transportation', 'trap', 'trapped', 'trash', 'trauma', 'travel', 'traveler', 'traveling', 'traveller', 'travelling', 'treasure', 'treat', 'treatment', 'tree', 'trek', 'trend', 'trending', 'triathlete', 'tribe', 'trick', 'tried', 'trigger', 'trip', 'triple', 'troll', 'tronnor', 'trophy', 'trouble', 'troublemaker', 'truck', 'true', 'truly', 'trump', 'trust', 'trusted', 'trustee', 'truth', 'try', 'trying', 'tryna', 'tt', 'tu', 'tues', 'tuition', 'tumblr', 'tune', 'tuned', 'turbo', 'turn', 'turned', 'turning', 'turtle', 'tutor', 'tutorial', 'tv', 'tva', 'tvd', 'tw', 'twd', 'tweet', 'tweeted', 'tweeter', 'tweeting', 'tweetmyjobs', 'twice', 'twin', 'twist', 'twisted', 'twit', 'twitch', 'twitter', 'twitterfeed', 'tx', 'txdxm', 'txst', 'ty', 'tyler', 'type', 'typical', 'uber', 'uc', 'ucf', 'ucla', 'uclu', 'ufc', 'ufo', 'uga', 'ugly', 'uh', 'ui', 'uk', 'ul', 'ultimate', 'ultra', 'um', 'una', 'unapologetic', 'unbelievable', 'unbiased', 'unborn', 'unbothered', 'unbreakable', 'unc', 'uncg', 'uncle', 'und', 'undergrad', 'undergraduate', 'underground', 'underserved', 'understand', 'understanding', 'undertale', 'unfollow', 'unfortunately', 'unhappy', 'unhealthy', 'uni', 'unicorn', 'union', 'unique', 'unit', 'united', 'universal', 'universe', 'university', 'unless', 'unlimited', 'unlock', 'uno', 'unofficial', 'unsigned', 'unstoppable', 'unt', 'untuk', 'unusual', 'upcoming', 'update', 'updated', 'upload', 'ups', 'upstate', 'ur', 'urban', 'urge', 'urself', 'usa', 'usaf', 'usc', 'use', 'used', 'useful', 'useless', 'user', 'using', 'usmc', 'usn', 'usually', 'uswnt', 'ut', 'utd', 'uva', 'uw', 'ux', 'va', 'vacation', 'vale', 'valley', 'valuable', 'value', 'vamp', 'vampire', 'van', 'vancouver', 'variety', 'various', 'varsity', 'vcu', 've', 'vega', 'vegan', 'vegetarian', 'vehicle', 'vein', 'vendor', 'venture', 'venue', 'ver', 'verified', 'vermont', 'verse', 'version', 'vet', 'veteran', 'vfyu', 'vi', 'vibe', 'vibrant', 'vice', 'victoria', 'victory', 'vida', 'video', 'videodirector', 'videogames', 'videographer', 'vietnam', 'view', 'viewer', 'viking', 'villa', 'village', 'villain', 'vincit', 'vine', 'vintage', 'vinyl', 'violence', 'vip', 'viral', 'virgin', 'virginia', 'virgo', 'virtual', 'vision', 'visionary', 'visit', 'visiting', 'visual', 'vita', 'vivo', 'vlogger', 'vo', 'voc', 'vocal', 'vocalist', 'vofn', 'vofnmail', 'voice', 'voiceover', 'void', 'volleyball', 'vols', 'voltron', 'volume', 'volunteer', 'volunteering', 'vote', 'voted', 'voter', 'voting', 'vous', 'vp', 'vxoud', 'wa', 'waifu', 'wait', 'waiting', 'wake', 'wale', 'walk', 'walker', 'walking', 'wall', 'walt', 'wan', 'wanderer', 'wandering', 'wanderlust', 'wank', 'wannabe', 'want', 'wanted', 'wanting', 'war', 'ward', 'warming', 'warned', 'warning', 'warped', 'warren', 'warrior', 'washington', 'wasn', 'wassup', 'waste', 'watch', 'watcher', 'watching', 'water', 'wave', 'way', 'wayne', 'weak', 'wealth', 'weapon', 'wear', 'wearer', 'wearing', 'weather', 'web', 'webcomic', 'website', 'wed', 'wedding', 'wednesday', 'weeaboo', 'weeb', 'weed', 'week', 'weekday', 'weekend', 'weekly', 'weight', 'weightlosscoach', 'weird', 'weirdo', 'welcome', 'welfare', 'wellbeing', 'wellness', 'welsh', 'welshbiz', 'went', 'wentworth', 'west', 'western', 'wet', 'weynt', 'wfan', 'wh', 'whats', 'whatsapp', 'wheel', 'wheelchair', 'whiskey', 'whisky', 'white', 'whore', 'whovian', 'wi', 'wicked', 'wide', 'widely', 'widget', 'wife', 'wifi', 'wild', 'wilderness', 'wildlife', 'williams', 'willing', 'wilson', 'win', 'wind', 'window', 'wine', 'wing', 'winner', 'winning', 'winter', 'wire', 'wired', 'wireless', 'wisconsin', 'wisdom', 'wise', 'wish', 'wit', 'witch', 'witty', 'wiz', 'wizard', 'wolf', 'woman', 'won', 'wonder', 'wonderful', 'wont', 'wood', 'word', 'wordpress', 'work', 'worked', 'worker', 'working', 'workout', 'workshop', 'world', 'worldwide', 'worn', 'worried', 'worry', 'worse', 'worship', 'worst', 'worth', 'wow', 'wrangler', 'wrapped', 'wrestler', 'wrestling', 'write', 'writer', 'writes', 'writing', 'written', 'wrong', 'wrote', 'wsu', 'wt', 'wtf', 'wwe', 'xbox', 'xd', 'xiv', 'xl', 'xo', 'xperia', 'xv', 'xx', 'xxx', 'xz', 'ya', 'yahoo', 'yang', 'yankee', 'ye', 'yeah', 'year', 'yeg', 'yellow', 'yes', 'yesterday', 'yg', 'ynwa', 'yo', 'yoga', 'yogi', 'york', 'yorker', 'yorkshire', 'yorkshireman', 'young', 'younow', 'youth', 'youtube', 'youtuber', 'youtubers', 'yr', 'ysk', 'yt', 'yuri', 'za', 'zayn', 'zealand', 'zero', 'zfgj', 'zjxrf', 'zombie', 'zone', 'zoo', 'zoologist', 'zquad']\n"
     ]
    }
   ],
   "source": [
    "from sklearn.feature_extraction.text import CountVectorizer\n",
    "\n",
    "max_features = 5000 \n",
    "\n",
    "cv = CountVectorizer(max_features=max_features, stop_words = \"english\")\n",
    "# in this method, we remove the stopwords (irrelevant words) in English language. (like \"of\", \"and\", \"the\" etc.)\n",
    "\n",
    "sparce_matrix = cv.fit_transform(description_list).toarray()\n",
    "\n",
    "print(\"top used {} words: {}\".format(max_features, cv.get_feature_names()))"
   ]
  },
  {
   "cell_type": "code",
   "execution_count": 43,
   "metadata": {
    "id": "y1g1NG0B2iSw"
   },
   "outputs": [],
   "source": [
    "y = data.iloc[:, 0].values\n",
    "x = sparce_matrix\n"
   ]
  },
  {
   "cell_type": "code",
   "execution_count": 44,
   "metadata": {
    "id": "cfmQtd8E2tEZ"
   },
   "outputs": [],
   "source": [
    "from sklearn.model_selection import cross_val_score\n",
    "from sklearn.naive_bayes import GaussianNB\n",
    "from sklearn.linear_model import LogisticRegression\n",
    "from sklearn import tree\n",
    "from sklearn.neighbors import KNeighborsClassifier\n",
    "from sklearn.svm import SVC"
   ]
  },
  {
   "cell_type": "code",
   "execution_count": 45,
   "metadata": {
    "id": "-KFYTVmE2xDy"
   },
   "outputs": [],
   "source": [
    "from sklearn.model_selection import train_test_split\n",
    "\n",
    "x_train, x_test, y_train, y_test = train_test_split(x, y, test_size = 0.1, random_state = 42)"
   ]
  },
  {
   "cell_type": "code",
   "execution_count": 46,
   "metadata": {
    "id": "NUep79JT20cj"
   },
   "outputs": [],
   "source": [
    "from sklearn.ensemble import RandomForestClassifier\n",
    "from sklearn.metrics import accuracy_score\n",
    "rf = RandomForestClassifier()\n",
    "rf.fit(x_train, y_train)\n",
    "# prediction\n",
    "y_pred = rf.predict(x_test)"
   ]
  },
  {
   "cell_type": "code",
   "execution_count": 47,
   "metadata": {
    "colab": {
     "base_uri": "https://localhost:8080/"
    },
    "id": "xAqTg14n4HgZ",
    "outputId": "bf895001-5369-42c1-ac47-2e85c4de1ea0"
   },
   "outputs": [
    {
     "name": "stdout",
     "output_type": "stream",
     "text": [
      "Accuracy:  54.46703635243376\n"
     ]
    }
   ],
   "source": [
    "# Random Forest \n",
    "accuracy = 100.0 * accuracy_score(y_test, y_pred)\n",
    "print(\"Accuracy: \", accuracy)"
   ]
  },
  {
   "cell_type": "code",
   "execution_count": 48,
   "metadata": {
    "colab": {
     "base_uri": "https://localhost:8080/"
    },
    "id": "DwxcjOG24L8S",
    "outputId": "477c19ec-7a49-48e0-aea5-f27d04f483f3"
   },
   "outputs": [
    {
     "name": "stdout",
     "output_type": "stream",
     "text": [
      "accuracy:  0.3659889094269871\n"
     ]
    }
   ],
   "source": [
    "from sklearn.naive_bayes import GaussianNB\n",
    "nb = GaussianNB()\n",
    "nb.fit(x_train,y_train)\n",
    "print(\"accuracy: \",nb.score(x_test,y_test))"
   ]
  },
  {
   "cell_type": "code",
   "execution_count": 49,
   "metadata": {
    "colab": {
     "base_uri": "https://localhost:8080/"
    },
    "id": "p1VFxvWl4R_Z",
    "outputId": "e52c0b06-8afd-4bbe-98e4-f160f0c27aa5"
   },
   "outputs": [
    {
     "name": "stdout",
     "output_type": "stream",
     "text": [
      "Accuracy:  58.5335797905114\n"
     ]
    }
   ],
   "source": [
    "from sklearn.metrics import accuracy_score\n",
    "nb = MultinomialNB()\n",
    "nb.fit(x_train, y_train)\n",
    "# prediction\n",
    "y_pred = nb.predict(x_test)\n",
    "accuracy = 100.0 * accuracy_score(y_test, y_pred)\n",
    "print(\"Accuracy: \", accuracy)"
   ]
  },
  {
   "cell_type": "code",
   "execution_count": 50,
   "metadata": {
    "colab": {
     "base_uri": "https://localhost:8080/"
    },
    "id": "IbiHaoSJ4WFC",
    "outputId": "3bcbd4e7-8f35-4d3d-849d-7b244b313c38"
   },
   "outputs": [
    {
     "name": "stdout",
     "output_type": "stream",
     "text": [
      "Accuracy:  56.13062230437461\n"
     ]
    }
   ],
   "source": [
    "lr = LogisticRegression(max_iter = 2000)\n",
    "lr.fit(x_train,y_train)\n",
    "# prediction\n",
    "y_pred = lr.predict(x_test)\n",
    "accuracy = 100.0 * accuracy_score(y_test, y_pred)\n",
    "print(\"Accuracy: \", accuracy)"
   ]
  },
  {
   "cell_type": "markdown",
   "metadata": {
    "id": "Ea3jWt_EjxGb"
   },
   "source": [
    "# Hence the highest accuracy is 58.5335797905114 by using Multinomial Naive Bias Algorithm"
   ]
  },
  {
   "cell_type": "markdown",
   "metadata": {
    "id": "7DVaAXb64rJy"
   },
   "source": [
    "# Question\n",
    "# 2. -> What are the most common emotions/words used by Males and Females"
   ]
  },
  {
   "cell_type": "code",
   "execution_count": 51,
   "metadata": {
    "id": "Aj8KxJXSjomC"
   },
   "outputs": [],
   "source": [
    "data = pd.read_csv('/content/Information.csv', encoding='latin1')"
   ]
  },
  {
   "cell_type": "code",
   "execution_count": null,
   "metadata": {
    "id": "EogLCsH87w1P"
   },
   "outputs": [],
   "source": [
    "data = pd.concat([data.gender, data.text], axis=1)\n",
    "data.dropna(axis = 0, inplace = True)"
   ]
  },
  {
   "cell_type": "code",
   "execution_count": null,
   "metadata": {
    "colab": {
     "base_uri": "https://localhost:8080/"
    },
    "id": "RzKfkDP2VbJs",
    "outputId": "e48840f3-48ea-48c7-8022-19ae9b4639a6"
   },
   "outputs": [
    {
     "name": "stdout",
     "output_type": "stream",
     "text": [
      "<class 'pandas.core.frame.DataFrame'>\n",
      "Int64Index: 19953 entries, 0 to 20049\n",
      "Data columns (total 2 columns):\n",
      " #   Column  Non-Null Count  Dtype \n",
      "---  ------  --------------  ----- \n",
      " 0   gender  19953 non-null  object\n",
      " 1   text    19953 non-null  object\n",
      "dtypes: object(2)\n",
      "memory usage: 467.6+ KB\n"
     ]
    }
   ],
   "source": [
    "data.info()"
   ]
  },
  {
   "cell_type": "code",
   "execution_count": 28,
   "metadata": {
    "id": "K1fvQKXKasg3"
   },
   "outputs": [],
   "source": [
    "import nltk\n",
    "text_list = [] # we created a list so we after these steps, we will append into this list\n",
    "for text in data.text:\n",
    "    text = re.sub(\"[^a-zA-Z]\", \" \", text)\n",
    "    # sub method finds the given pattern ([^a-zA-Z] means, NOT letter like \":\") and changes them with \" \" (space)\n",
    "    text = text.lower()\n",
    "    # for converting upper case letters to lower case letters\n",
    "    text = nltk.word_tokenize(text)\n",
    "    # for making a word list from our text\n",
    "    lemma = nltk.WordNetLemmatizer()\n",
    "    text = [lemma.lemmatize(word) for word in text]\n",
    "    # for founding the roots of each words with lemma\n",
    "    text = \" \".join(text)\n",
    "    # after all these steps,we joined the words together and remake our text.\n",
    "    text_list.append(text)\n",
    "    # and append these texts into the list we created."
   ]
  },
  {
   "cell_type": "code",
   "execution_count": 31,
   "metadata": {
    "colab": {
     "base_uri": "https://localhost:8080/"
    },
    "id": "dc0VeiJrbzLm",
    "outputId": "2b25b1b6-bfeb-43b0-ffb1-bc5ef617b404"
   },
   "outputs": [
    {
     "name": "stdout",
     "output_type": "stream",
     "text": [
      "top used 10 words: ['channel', 'day', 'http', 'just', 'like', 'love', 'make', 'update', 'wa', 'weather']\n"
     ]
    }
   ],
   "source": [
    "from sklearn.feature_extraction.text import CountVectorizer\n",
    "\n",
    "max_features = 10 \n",
    "\n",
    "cv = CountVectorizer(max_features=max_features, stop_words = \"english\")\n",
    "# for removing stopwords\n",
    "\n",
    "sparce_matrix = cv.fit_transform(text_list).toarray()\n",
    "\n",
    "print(\"top used {} words: {}\".format(max_features, cv.get_feature_names()))"
   ]
  },
  {
   "cell_type": "markdown",
   "metadata": {
    "id": "l3m6iCPidY7b"
   },
   "source": [
    "# ['channel', 'day', 'http', 'just', 'like', 'love', 'make', 'update', 'wa', 'weather']\n",
    "# The above mention words are the most top 10 emotions/words used by both male and females"
   ]
  },
  {
   "cell_type": "markdown",
   "metadata": {},
   "source": [
    "# Submitted by Nripesh Sharma\n",
    "# nripesh.sharma@btech.christuniversity.in"
   ]
  },
  {
   "cell_type": "code",
   "execution_count": null,
   "metadata": {},
   "outputs": [],
   "source": []
  }
 ],
 "metadata": {
  "colab": {
   "collapsed_sections": [],
   "name": "Untitled",
   "provenance": []
  },
  "kernelspec": {
   "display_name": "Python 3",
   "language": "python",
   "name": "python3"
  },
  "language_info": {
   "codemirror_mode": {
    "name": "ipython",
    "version": 3
   },
   "file_extension": ".py",
   "mimetype": "text/x-python",
   "name": "python",
   "nbconvert_exporter": "python",
   "pygments_lexer": "ipython3",
   "version": "3.7.6"
  }
 },
 "nbformat": 4,
 "nbformat_minor": 1
}
